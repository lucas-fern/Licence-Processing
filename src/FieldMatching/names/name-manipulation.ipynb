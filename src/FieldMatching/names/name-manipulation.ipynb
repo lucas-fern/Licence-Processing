{
 "cells": [
  {
   "cell_type": "code",
   "execution_count": 1,
   "metadata": {},
   "outputs": [],
   "source": [
    "import pandas as pd"
   ]
  },
  {
   "cell_type": "code",
   "execution_count": 106,
   "metadata": {},
   "outputs": [],
   "source": [
    "last = pd.read_fwf('names/last.txt', names=['name', 'freq', 'cum_freq', 'rank'])\n",
    "m_first = pd.read_fwf('names/male-first.txt', names=['name', 'freq', 'cum_freq', 'rank'])\n",
    "f_first = pd.read_fwf('names/female-first.txt', names=['name', 'freq', 'cum_freq', 'rank'])\n",
    "words = pd.read_excel('names/popular-words.xlsx', dtype={'freq': int, 'word': str})"
   ]
  },
  {
   "cell_type": "code",
   "execution_count": 107,
   "metadata": {},
   "outputs": [
    {
     "data": {
      "text/html": [
       "<div>\n",
       "<style scoped>\n",
       "    .dataframe tbody tr th:only-of-type {\n",
       "        vertical-align: middle;\n",
       "    }\n",
       "\n",
       "    .dataframe tbody tr th {\n",
       "        vertical-align: top;\n",
       "    }\n",
       "\n",
       "    .dataframe thead th {\n",
       "        text-align: right;\n",
       "    }\n",
       "</style>\n",
       "<table border=\"1\" class=\"dataframe\">\n",
       "  <thead>\n",
       "    <tr style=\"text-align: right;\">\n",
       "      <th></th>\n",
       "      <th>rank</th>\n",
       "    </tr>\n",
       "    <tr>\n",
       "      <th>name</th>\n",
       "      <th></th>\n",
       "    </tr>\n",
       "  </thead>\n",
       "  <tbody>\n",
       "    <tr>\n",
       "      <th>james</th>\n",
       "      <td>0</td>\n",
       "    </tr>\n",
       "    <tr>\n",
       "      <th>john</th>\n",
       "      <td>1</td>\n",
       "    </tr>\n",
       "    <tr>\n",
       "      <th>robert</th>\n",
       "      <td>2</td>\n",
       "    </tr>\n",
       "    <tr>\n",
       "      <th>michael</th>\n",
       "      <td>3</td>\n",
       "    </tr>\n",
       "    <tr>\n",
       "      <th>mary</th>\n",
       "      <td>4</td>\n",
       "    </tr>\n",
       "    <tr>\n",
       "      <th>...</th>\n",
       "      <td>...</td>\n",
       "    </tr>\n",
       "    <tr>\n",
       "      <th>drewett</th>\n",
       "      <td>94288</td>\n",
       "    </tr>\n",
       "    <tr>\n",
       "      <th>drinnen</th>\n",
       "      <td>94289</td>\n",
       "    </tr>\n",
       "    <tr>\n",
       "      <th>druckman</th>\n",
       "      <td>94290</td>\n",
       "    </tr>\n",
       "    <tr>\n",
       "      <th>drust</th>\n",
       "      <td>94291</td>\n",
       "    </tr>\n",
       "    <tr>\n",
       "      <th>hallet</th>\n",
       "      <td>94292</td>\n",
       "    </tr>\n",
       "  </tbody>\n",
       "</table>\n",
       "<p>94293 rows × 1 columns</p>\n",
       "</div>"
      ],
      "text/plain": [
       "           rank\n",
       "name           \n",
       "james         0\n",
       "john          1\n",
       "robert        2\n",
       "michael       3\n",
       "mary          4\n",
       "...         ...\n",
       "drewett   94288\n",
       "drinnen   94289\n",
       "druckman  94290\n",
       "drust     94291\n",
       "hallet    94292\n",
       "\n",
       "[94293 rows x 1 columns]"
      ]
     },
     "execution_count": 107,
     "metadata": {},
     "output_type": "execute_result"
    }
   ],
   "source": [
    "names = pd.concat([last, m_first, f_first], axis=0)\n",
    "names['name'] = names['name'].str.lower()\n",
    "names = names.sort_values(by=['freq'], ascending=False).set_index(['name']).drop(['freq', 'cum_freq'], axis=1)\n",
    "names['rank'] = range(names.shape[0])\n",
    "names.to_pickle('names/all-names.pkl')\n",
    "names"
   ]
  },
  {
   "cell_type": "code",
   "execution_count": 108,
   "metadata": {},
   "outputs": [
    {
     "data": {
      "text/html": [
       "<div>\n",
       "<style scoped>\n",
       "    .dataframe tbody tr th:only-of-type {\n",
       "        vertical-align: middle;\n",
       "    }\n",
       "\n",
       "    .dataframe tbody tr th {\n",
       "        vertical-align: top;\n",
       "    }\n",
       "\n",
       "    .dataframe thead th {\n",
       "        text-align: right;\n",
       "    }\n",
       "</style>\n",
       "<table border=\"1\" class=\"dataframe\">\n",
       "  <thead>\n",
       "    <tr style=\"text-align: right;\">\n",
       "      <th></th>\n",
       "      <th>rank</th>\n",
       "    </tr>\n",
       "    <tr>\n",
       "      <th>word</th>\n",
       "      <th></th>\n",
       "    </tr>\n",
       "  </thead>\n",
       "  <tbody>\n",
       "    <tr>\n",
       "      <th>the</th>\n",
       "      <td>0</td>\n",
       "    </tr>\n",
       "    <tr>\n",
       "      <th>and</th>\n",
       "      <td>1</td>\n",
       "    </tr>\n",
       "    <tr>\n",
       "      <th>of</th>\n",
       "      <td>2</td>\n",
       "    </tr>\n",
       "    <tr>\n",
       "      <th>a</th>\n",
       "      <td>3</td>\n",
       "    </tr>\n",
       "    <tr>\n",
       "      <th>to</th>\n",
       "      <td>4</td>\n",
       "    </tr>\n",
       "    <tr>\n",
       "      <th>...</th>\n",
       "      <td>...</td>\n",
       "    </tr>\n",
       "    <tr>\n",
       "      <th>retrieving</th>\n",
       "      <td>9959</td>\n",
       "    </tr>\n",
       "    <tr>\n",
       "      <th>lightest</th>\n",
       "      <td>9960</td>\n",
       "    </tr>\n",
       "    <tr>\n",
       "      <th>leaks</th>\n",
       "      <td>9961</td>\n",
       "    </tr>\n",
       "    <tr>\n",
       "      <th>awarding</th>\n",
       "      <td>9962</td>\n",
       "    </tr>\n",
       "    <tr>\n",
       "      <th>aligning</th>\n",
       "      <td>9963</td>\n",
       "    </tr>\n",
       "  </tbody>\n",
       "</table>\n",
       "<p>9964 rows × 1 columns</p>\n",
       "</div>"
      ],
      "text/plain": [
       "            rank\n",
       "word            \n",
       "the            0\n",
       "and            1\n",
       "of             2\n",
       "a              3\n",
       "to             4\n",
       "...          ...\n",
       "retrieving  9959\n",
       "lightest    9960\n",
       "leaks       9961\n",
       "awarding    9962\n",
       "aligning    9963\n",
       "\n",
       "[9964 rows x 1 columns]"
      ]
     },
     "execution_count": 108,
     "metadata": {},
     "output_type": "execute_result"
    }
   ],
   "source": [
    "words = words[~words['word'].str.contains('''!|\"|#|\\$|%|&|'|\\*|\\+|,|-|\\.|:|;|=|\\?|@|\\^|_''', regex=True)]\n",
    "words['rank'] = range(words.shape[0])\n",
    "words = words.sort_values(['rank']).set_index(['word']).drop(['freq'], axis=1)\n",
    "words.to_pickle('names/all-words.pkl')\n",
    "words"
   ]
  },
  {
   "cell_type": "code",
   "execution_count": 8,
   "metadata": {},
   "outputs": [],
   "source": [
    "names = pd.read_pickle('all-names.pkl')"
   ]
  },
  {
   "cell_type": "code",
   "execution_count": 15,
   "metadata": {},
   "outputs": [],
   "source": [
    "names.to_pickle('all-names.pkl')"
   ]
  }
 ],
 "metadata": {
  "interpreter": {
   "hash": "cbf37de53ddbd9fdc419e41ea12be310f67c4290c017233fb77151fbf6872024"
  },
  "kernelspec": {
   "display_name": "Python 3.9.4 64-bit ('.venv': venv)",
   "name": "python3"
  },
  "language_info": {
   "codemirror_mode": {
    "name": "ipython",
    "version": 3
   },
   "file_extension": ".py",
   "mimetype": "text/x-python",
   "name": "python",
   "nbconvert_exporter": "python",
   "pygments_lexer": "ipython3",
   "version": "3.9.4"
  },
  "orig_nbformat": 4
 },
 "nbformat": 4,
 "nbformat_minor": 2
}
